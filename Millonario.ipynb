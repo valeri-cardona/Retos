{
  "nbformat": 4,
  "nbformat_minor": 0,
  "metadata": {
    "colab": {
      "provenance": [],
      "authorship_tag": "ABX9TyNyoATtQFZITb0ZQupJ66Fl",
      "include_colab_link": true
    },
    "kernelspec": {
      "name": "python3",
      "display_name": "Python 3"
    },
    "language_info": {
      "name": "python"
    }
  },
  "cells": [
    {
      "cell_type": "markdown",
      "metadata": {
        "id": "view-in-github",
        "colab_type": "text"
      },
      "source": [
        "<a href=\"https://colab.research.google.com/github/valeri-cardona/Retos/blob/main/Millonario.ipynb\" target=\"_parent\"><img src=\"https://colab.research.google.com/assets/colab-badge.svg\" alt=\"Open In Colab\"/></a>"
      ]
    },
    {
      "cell_type": "markdown",
      "source": [
        "# **Reto ¿Quién quiere ser millonario?**"
      ],
      "metadata": {
        "id": "AdxeapBNQfdh"
      }
    },
    {
      "cell_type": "code",
      "source": [
        "import numpy as np"
      ],
      "metadata": {
        "id": "WQxIT1mGs-Uj"
      },
      "execution_count": null,
      "outputs": []
    },
    {
      "cell_type": "code",
      "source": [
        "level_1=[('¿De qué color eran los calcetines que llevaba Michael Jackson la primera vez que bailó el “moonwalk”?','negros','blancos','rojos','azules','B'),\n",
        "         ('¿Cuál de estos pescados es típico comer en Málaga si pides espeto?','Merluza','Boquerón','Pez globo','Sardina','D'),\n",
        "         ('¿De qué color son los billetes de 20 euros?','Rojo','Azul','Verde','Morado','B'),\n",
        "         ('¿Quién es Woody Woodpecker?','El Pájaro Loco','El oso Yogui','Piolín','El Correcaminos','A'),\n",
        "         ('¿Cómo se llama la película que se estrenó en 2019 y que narra la vida de Elton John?','Purple Rain','Rocketman','Candle in the Wind','Mi nombre es John, Elton John','B')]"
      ],
      "metadata": {
        "id": "t1h1jOR7R0c3"
      },
      "execution_count": 21,
      "outputs": []
    },
    {
      "cell_type": "code",
      "source": [
        "level_2=[('Si quieres ver la Dama de Elche tienes que ir a…','Valencia','Alicante','Madrid','París','B'),\n",
        "         ('¿Qué tipo de respiración tienen las serpientes?','Cutánea','Branquial','Traqueal','Pulmonar','D'),\n",
        "         ('¿Qué tratado de paz, firmado en 1648, puso fin a la guerra de los Treinta Años?','Westfalia','Hubertusburgo','Basilea','Ausburgo','A'),\n",
        "         ('Uno de ellos no colaboró con Miles Davis en “Kind of Blue”','John Coltrane','Bill Evans','Charlie Parker','Paul Chambers','B'),\n",
        "         ('¿Qué lehendakari ha estado más años en el poder?','Iñigo Urkullu','Juan José Ibarretxe','José Antonio Ardanza','Patxi López','A')]"
      ],
      "metadata": {
        "id": "CKB9hPoRT4ZQ"
      },
      "execution_count": null,
      "outputs": []
    },
    {
      "cell_type": "code",
      "source": [
        "level_3=[('¿Con qué ácido se hacen las aspirinas?','Ascórbico','Hialurónico','Acetilsalicílico','Desoxirribonucleico','C'),\n",
        "         ('¿Qué frase te repetía James Blunt una y otra vez en la canción que le dio a conocer en 2009?','You´re Beautiful','Big girls Don´t Cry','I´m Yours','Solamente You','A'),\n",
        "         ('¿Qué modalidad de yoga se practica a más de 40° C durante noventa minutos?','Kundalini','Ashtanga','Iyengar','Bikram','D'),\n",
        "         ('¿Cuál de estas grandes ciudades estadounidenses se asoma al lago Michigan?','Dallas','Cleveland','Atlanta','Chicago','D'),\n",
        "         ('La gran hambruna china ocurrió entre…','1940 y 1943','1945 y 1948','1958 y 1961','1975 y 1978','C')]"
      ],
      "metadata": {
        "id": "Y3dwBxxFi_WR"
      },
      "execution_count": null,
      "outputs": []
    },
    {
      "cell_type": "code",
      "source": [
        "level_4=[('El vinagre es un ingrediente que no puede faltar si queremos…','Gratinar','Tamizar','Escabechar','Deshidratar','C'),\n",
        "         ('El canal de vídeos de YouTube fue lanzado oficialmente en el año…','2000','2005','2010','2015','B'),\n",
        "         ('Uno de ellos es conocido como “el año de los tres papas”','1976','1977','1978','1979','C'),\n",
        "         ('La ADN polimerasa Phi29 fue descubierta por…','Severo Ochoa','Margarita Salas','Mary-Dell Chilton','Kathrin Jansen','B'),\n",
        "         ('¿Qué tiene de curioso el caso de Benjamin Button?','Está en varios sitios a la vez','Cada vez es más joven','Conoce su propio futuro','Un cuadro guarda su vejez','B')]"
      ],
      "metadata": {
        "id": "2pZ-_azBkhxE"
      },
      "execution_count": null,
      "outputs": []
    },
    {
      "cell_type": "code",
      "source": [
        "level_5=[('¿En qué ciudad española podemos visitar el Museo del Greco?','Madrid','Toledo','Guadalajara','Cuenca','B'),\n",
        "         ('Al último clasificado del torneo Seis Naciones de rugby se le entrega…','Una cuchara de madera','Una medalla de madera','La copa de perdedores','Una urna con cenizas','A'),\n",
        "         ('Malcom y Angus, miembros de AC/DC, eran…','Amigos','Primos','Hermanos','Pareja','C'),('24) No es una película de David Fincher','El club de la lucha','Perdida','Seven','El indomable Will Hunting','D'),\n",
        "         ('¿Cuál es el premio de arquitectura más prestigioso a nivel internacional?','Pulitzer','Pritzker','Grammy','Cervantes','B')]"
      ],
      "metadata": {
        "id": "IrEvgowcmaTa"
      },
      "execution_count": null,
      "outputs": []
    },
    {
      "cell_type": "code",
      "source": [
        "lista_preguntas = [level_1, level_2, level_3, level_4, level_5]"
      ],
      "metadata": {
        "id": "CJ6UZ8gVnQYg"
      },
      "execution_count": null,
      "outputs": []
    },
    {
      "cell_type": "code",
      "source": [
        "def imprimir_pregunta(lista):\n",
        "  n=np.random.randint(0,5,1)[0]\n",
        "  print(f'{lista[n][0]}')\n",
        "  print('\\n')\n",
        "  print(f'A. {lista[n][1]}')\n",
        "  print(f'B. {lista[n][2]}')\n",
        "  print(f'C. {lista[n][3]}')\n",
        "  print(f'D. {lista[n][4]}')\n",
        "  #print(f'La respuesta correcta es: {lista[n][5]}\\n\\n')\n",
        "  return lista[n][5]"
      ],
      "metadata": {
        "id": "8yI2Gdwe5pyd"
      },
      "execution_count": null,
      "outputs": []
    },
    {
      "cell_type": "code",
      "source": [
        "win = True\n",
        "cont=0\n",
        "for pregunta in lista_preguntas:\n",
        "  respuesta_correcta = imprimir_pregunta(pregunta)\n",
        "  respuesta = input('Ingrese su respuesta: ')\n",
        "  respuesta=respuesta.upper()\n",
        "  \n",
        "  if respuesta_correcta == respuesta:\n",
        "    print('Ha respondido correctamente')\n",
        "    cont=cont+10\n",
        "    sub=input(f'\\n¿Desea continuar con el siguiente nivel o retirarse con {cont} puntos ganados?\\n 1)Continuar\\n 2)Retirarse\\n')\n",
        "    if sub == '1':\n",
        "      print('\\nSu respuesta ha sido continuar con el siguiente nivel')\n",
        "      continue\n",
        "    else:\n",
        "      print(f'\\nSu respuesta ha sido abandonar el juego con {cont} puntos')\n",
        "      win = False\n",
        "      break\n",
        "  else: \n",
        "    print('Ha respondido erróneamente')\n",
        "    cont=cont-cont\n",
        "    print(f'ha perdido todos sus puntos\\n puntaje actual:({cont})')\n",
        "    win = False\n",
        "    break\n",
        "if win:   \n",
        "  print('Genial!!!!!!!! completaste el juego (eres el primero en hacerlo)....Felicitaciones!!!!!!!! :)')\n",
        "else: print('Muy mal!!!!!!!!!!!!')"
      ],
      "metadata": {
        "colab": {
          "base_uri": "https://localhost:8080/"
        },
        "id": "u4410oGPne63",
        "outputId": "b0202848-d045-4066-edd1-e309e865923d"
      },
      "execution_count": 22,
      "outputs": [
        {
          "output_type": "stream",
          "name": "stdout",
          "text": [
            "3)¿De qué color son los billetes de 20 euros?\n",
            "\n",
            "\n",
            "A. Rojo\n",
            "B. Azul\n",
            "C. Verde\n",
            "D. Morado\n",
            "Ingrese su respuesta: b\n",
            "Ha respondido correctamente\n",
            "\n",
            "¿Desea continuar con el siguiente nivel o retirarse con 10 puntos ganados?\n",
            " 1)Continuar\n",
            " 2)Retirarse\n",
            "1\n",
            "\n",
            "Su respuesta ha sido continuar con el siguiente nivel\n",
            "9)Uno de ellos no colaboró con Miles Davis en “Kind of Blue”\n",
            "\n",
            "\n",
            "A. John Coltrane\n",
            "B. Bill Evans\n",
            "C. Charlie Parker\n",
            "D. Paul Chambers\n",
            "Ingrese su respuesta: b\n",
            "Ha respondido correctamente\n",
            "\n",
            "¿Desea continuar con el siguiente nivel o retirarse con 20 puntos ganados?\n",
            " 1)Continuar\n",
            " 2)Retirarse\n",
            "1\n",
            "\n",
            "Su respuesta ha sido continuar con el siguiente nivel\n",
            "14)¿Cuál de estas grandes ciudades estadounidenses se asoma al lago Michigan?\n",
            "\n",
            "\n",
            "A. Dallas\n",
            "B. Cleveland\n",
            "C. Atlanta\n",
            "D. Chicago\n",
            "Ingrese su respuesta: d\n",
            "Ha respondido correctamente\n",
            "\n",
            "¿Desea continuar con el siguiente nivel o retirarse con 30 puntos ganados?\n",
            " 1)Continuar\n",
            " 2)Retirarse\n",
            "1\n",
            "\n",
            "Su respuesta ha sido continuar con el siguiente nivel\n",
            "16)El vinagre es un ingrediente que no puede faltar si queremos…\n",
            "\n",
            "\n",
            "A. Gratinar\n",
            "B. Tamizar\n",
            "C. Escabechar\n",
            "D. Deshidratar\n",
            "Ingrese su respuesta: c\n",
            "Ha respondido correctamente\n",
            "\n",
            "¿Desea continuar con el siguiente nivel o retirarse con 40 puntos ganados?\n",
            " 1)Continuar\n",
            " 2)Retirarse\n",
            "1\n",
            "\n",
            "Su respuesta ha sido continuar con el siguiente nivel\n",
            "21)¿En qué ciudad española podemos visitar el Museo del Greco?\n",
            "\n",
            "\n",
            "A. Madrid\n",
            "B. Toledo\n",
            "C. Guadalajara\n",
            "D. Cuenca\n",
            "Ingrese su respuesta: b\n",
            "Ha respondido correctamente\n",
            "\n",
            "¿Desea continuar con el siguiente nivel o retirarse con 50 puntos ganados?\n",
            " 1)Continuar\n",
            " 2)Retirarse\n",
            "1\n",
            "\n",
            "Su respuesta ha sido continuar con el siguiente nivel\n",
            "Genial!!!!!!!! completaste el juego (eres el primero en hacerlo)....Felicitaciones!!!!!!!! :)\n"
          ]
        }
      ]
    },
    {
      "cell_type": "code",
      "source": [
        "#for i in range (5):\n",
        "  #imprimir_pregunta(level_1)"
      ],
      "metadata": {
        "id": "WmNkRn6yuecl"
      },
      "execution_count": null,
      "outputs": []
    },
    {
      "cell_type": "code",
      "source": [
        "#imprimir_pregunta(level_1)"
      ],
      "metadata": {
        "id": "bY9aRWkLzM66"
      },
      "execution_count": null,
      "outputs": []
    },
    {
      "cell_type": "code",
      "source": [
        "#n=np.random.randint(0,5,1)[0]"
      ],
      "metadata": {
        "id": "JJqdhj6sfteM"
      },
      "execution_count": null,
      "outputs": []
    },
    {
      "cell_type": "code",
      "source": [
        "#optuser=input('Elija su respuesta=>')"
      ],
      "metadata": {
        "id": "WWTwK2FTN9rU"
      },
      "execution_count": null,
      "outputs": []
    },
    {
      "cell_type": "code",
      "source": [
        "#print(optuser)"
      ],
      "metadata": {
        "id": "Je-T4WFc4nBe"
      },
      "execution_count": null,
      "outputs": []
    },
    {
      "cell_type": "code",
      "source": [
        "#optuser = optuser.upper()"
      ],
      "metadata": {
        "id": "ZKbHzS31PpSe"
      },
      "execution_count": null,
      "outputs": []
    },
    {
      "cell_type": "code",
      "source": [
        "#if optuser == level_1[n][5]:\n",
        "  #print('su respuesta es correcta\\n')\n",
        "  #print('Siguiente pregunta')\n",
        "  #imprimir_pregunta(level_1)\n",
        "#else:\n",
        "  #print('su respuesta es equivocada')"
      ],
      "metadata": {
        "id": "d6rH50UXzj5K"
      },
      "execution_count": null,
      "outputs": []
    },
    {
      "cell_type": "markdown",
      "source": [
        "## **Temas usados**\n",
        "\n",
        "\n",
        "\n",
        "1.   Loops\n",
        "2.   Booleanos\n",
        "3.   Librerías\n",
        "4.   Listas y tuplas\n",
        "5.   Condicionales\n",
        "6.   Contadores y acumuladores\n",
        "\n",
        "\n",
        "\n"
      ],
      "metadata": {
        "id": "01buzXWQuw6H"
      }
    }
  ]
}