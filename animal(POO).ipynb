{
  "nbformat": 4,
  "nbformat_minor": 0,
  "metadata": {
    "colab": {
      "provenance": [],
      "authorship_tag": "ABX9TyNBtoMR4riWvBuI5yxGATcO",
      "include_colab_link": true
    },
    "kernelspec": {
      "name": "python3",
      "display_name": "Python 3"
    },
    "language_info": {
      "name": "python"
    }
  },
  "cells": [
    {
      "cell_type": "markdown",
      "metadata": {
        "id": "view-in-github",
        "colab_type": "text"
      },
      "source": [
        "<a href=\"https://colab.research.google.com/github/valeri-cardona/Retos/blob/main/animal(POO).ipynb\" target=\"_parent\"><img src=\"https://colab.research.google.com/assets/colab-badge.svg\" alt=\"Open In Colab\"/></a>"
      ]
    },
    {
      "cell_type": "code",
      "execution_count": null,
      "metadata": {
        "id": "UUcJa38Pkp-Q"
      },
      "outputs": [],
      "source": [
        "class Animal:\n",
        "  def __init__(self,nombre,tamano,color,npatas= 4, garras='largas', cola='larga'):\n",
        "    self.nombre = nombre\n",
        "    self.tamano = tamano\n",
        "    self.color = color\n",
        "    self.npatas = npatas\n",
        "    self.garras = garras\n",
        "    self.cola = cola\n",
        "\n",
        "  def info(self):\n",
        "    print('Información del animal: \\n')\n",
        "    print(f'Nombre del animal: {self.nombre}\\n')\n",
        "    print(f'Tamaño del animal: {self.tamano}\\n')\n",
        "    print(f'Color del animal: {self.color}\\n')\n",
        "    print(f'El animal tiene: {self.npatas} patas \\n')\n",
        "    print(f'El animal tiene garras: {self.garras}\\n')\n",
        "    print(f'El animal tiene cola: {self.cola}\\n')"
      ]
    },
    {
      "cell_type": "code",
      "source": [
        "Gato = Animal('Kitty','pequeño','negro')"
      ],
      "metadata": {
        "id": "iGyEvK2RzMQ9"
      },
      "execution_count": null,
      "outputs": []
    },
    {
      "cell_type": "code",
      "source": [
        "Gato.info()"
      ],
      "metadata": {
        "colab": {
          "base_uri": "https://localhost:8080/"
        },
        "id": "a3Zg6bQ8zYGc",
        "outputId": "9be430b1-a54d-4a26-b99c-60379f3e033c"
      },
      "execution_count": null,
      "outputs": [
        {
          "output_type": "stream",
          "name": "stdout",
          "text": [
            "Información del animal: \n",
            "\n",
            "Nombre del animal: Kitty\n",
            "\n",
            "Tamaño del animal: pequeño\n",
            "\n",
            "el animal tiene: 4 patas \n",
            "\n",
            "El animal tiene garras: largas\n",
            "\n",
            "El animal tiene cola: larga\n",
            "\n"
          ]
        }
      ]
    },
    {
      "cell_type": "code",
      "source": [
        "Perro = Animal('Jack','grande',garras='cortas','café')"
      ],
      "metadata": {
        "id": "-tqOSEkE4Zor"
      },
      "execution_count": null,
      "outputs": []
    },
    {
      "cell_type": "code",
      "source": [
        "Perro.info()"
      ],
      "metadata": {
        "colab": {
          "base_uri": "https://localhost:8080/"
        },
        "id": "x6uuYtbJ4og-",
        "outputId": "baafc7bd-d8ea-498f-81de-f6b676554eb7"
      },
      "execution_count": null,
      "outputs": [
        {
          "output_type": "stream",
          "name": "stdout",
          "text": [
            "Información del animal: \n",
            "\n",
            "Nombre del animal: Jack\n",
            "\n",
            "Tamaño del animal: grande\n",
            "\n",
            "el animal tiene: 4 patas \n",
            "\n",
            "El animal tiene garras: cortas\n",
            "\n",
            "El animal tiene cola: larga\n",
            "\n"
          ]
        }
      ]
    },
    {
      "cell_type": "code",
      "source": [
        "arana=Animal('Bitsy','pequeña',npatas=8,garras='diminutas',cola='Las arañas no tienen cola')"
      ],
      "metadata": {
        "id": "Dp6Ona_l5ScN"
      },
      "execution_count": null,
      "outputs": []
    },
    {
      "cell_type": "code",
      "source": [
        "arana.info()"
      ],
      "metadata": {
        "colab": {
          "base_uri": "https://localhost:8080/"
        },
        "id": "sW1jAP448aQY",
        "outputId": "2c379e49-8786-4b6c-e33c-dae019bc4c15"
      },
      "execution_count": null,
      "outputs": [
        {
          "output_type": "stream",
          "name": "stdout",
          "text": [
            "Información del animal: \n",
            "\n",
            "Nombre del animal: Bitsy\n",
            "\n",
            "Tamaño del animal: pequeña\n",
            "\n",
            "el animal tiene: 8 patas \n",
            "\n",
            "El animal tiene garras: diminutas\n",
            "\n",
            "El animal tiene cola: Las arañas no tienen cola\n",
            "\n"
          ]
        }
      ]
    }
  ]
}